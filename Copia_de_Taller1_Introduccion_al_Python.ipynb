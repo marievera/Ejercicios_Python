{
  "nbformat": 4,
  "nbformat_minor": 0,
  "metadata": {
    "colab": {
      "provenance": [],
      "authorship_tag": "ABX9TyOc48efOSx3MgyJWELYd/e7",
      "include_colab_link": true
    },
    "kernelspec": {
      "name": "python3",
      "display_name": "Python 3"
    },
    "language_info": {
      "name": "python"
    }
  },
  "cells": [
    {
      "cell_type": "markdown",
      "metadata": {
        "id": "view-in-github",
        "colab_type": "text"
      },
      "source": [
        "<a href=\"https://colab.research.google.com/github/marievera/Ejercicios_Python/blob/main/Copia_de_Taller1_Introduccion_al_Python.ipynb\" target=\"_parent\"><img src=\"https://colab.research.google.com/assets/colab-badge.svg\" alt=\"Open In Colab\"/></a>"
      ]
    },
    {
      "cell_type": "code",
      "execution_count": 16,
      "metadata": {
        "id": "cXLOizhw2MUu",
        "colab": {
          "base_uri": "https://localhost:8080/"
        },
        "outputId": "55cf0272-7be2-4a02-ce6c-8f6f9e006d3c"
      },
      "outputs": [
        {
          "output_type": "stream",
          "name": "stdout",
          "text": [
            "salario bruto = 960000 , retencion= 120000.0 , salario neto= 840000.0\n"
          ]
        }
      ],
      "source": [
        "horas_s=48\n",
        "s=4\n",
        "h_m=(horas_s*s)\n",
        "type(h_m)\n",
        "pagoxhora=5000\n",
        "salario_bruto=(h_m*pagoxhora)\n",
        "retencion=12.5/100*salario_bruto\n",
        "salario_neto=salario_bruto-retencion\n",
        "print(\"salario bruto =\",salario_bruto, \", retencion=\",retencion,\", salario neto=\",salario_neto)\n",
        "\n",
        "\n",
        "\n",
        "\n",
        "\n"
      ]
    }
  ]
}